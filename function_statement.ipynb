{
  "nbformat": 4,
  "nbformat_minor": 0,
  "metadata": {
    "colab": {
      "provenance": [],
      "authorship_tag": "ABX9TyMH5O++340LV+dx3H0yDuHC",
      "include_colab_link": true
    },
    "kernelspec": {
      "name": "python3",
      "display_name": "Python 3"
    },
    "language_info": {
      "name": "python"
    }
  },
  "cells": [
    {
      "cell_type": "markdown",
      "metadata": {
        "id": "view-in-github",
        "colab_type": "text"
      },
      "source": [
        "<a href=\"https://colab.research.google.com/github/poonamkhot123/Data-Analysis-Power-BI-dashboard/blob/main/function_statement.ipynb\" target=\"_parent\"><img src=\"https://colab.research.google.com/assets/colab-badge.svg\" alt=\"Open In Colab\"/></a>"
      ]
    },
    {
      "cell_type": "markdown",
      "source": [
        "1- Write a function that calculates the area of a rectangle given its length and width.\n",
        "\n",
        "Description: Create a function that takes two parameters, length and width, and returns the area of the rectangle calculated using the formula: area = length * width."
      ],
      "metadata": {
        "id": "CY5RBkASfjcL"
      }
    },
    {
      "cell_type": "code",
      "source": [
        "def rectangle(length,width):\n",
        "    area = length * width\n",
        "    print(\"Area of rectangle is\",area)\n",
        "rectangle(5,2)"
      ],
      "metadata": {
        "colab": {
          "base_uri": "https://localhost:8080/"
        },
        "id": "AaadCCxmflzP",
        "outputId": "b24ee894-b0de-44fe-ea83-986d1ed9a638"
      },
      "execution_count": null,
      "outputs": [
        {
          "output_type": "stream",
          "name": "stdout",
          "text": [
            "Area of rectangle is 10\n"
          ]
        }
      ]
    },
    {
      "cell_type": "markdown",
      "source": [
        "2- Create a function that converts temperature from Celsius to Fahrenheit.\n",
        "\n",
        "Description: Define a function that accepts a temperature value in Celsius and returns its equivalent in Fahrenheit using the conversion formula: Fahrenheit = (Celsius * 9/5) + 32.\n"
      ],
      "metadata": {
        "id": "ZxcGnKJ8fmZg"
      }
    },
    {
      "cell_type": "code",
      "source": [
        "def celsius_to_fahrenheit(celsius):\n",
        "    return (celsius * 9/5) + 32\n",
        "c =float(input(\"Enter a number:\"))\n",
        "f = celsius_to_fahrenheit(c)\n",
        "print(f)"
      ],
      "metadata": {
        "colab": {
          "base_uri": "https://localhost:8080/"
        },
        "id": "Mfwbf6NRfrmm",
        "outputId": "bf58748f-25b4-494b-ea39-79eba4dd47d6"
      },
      "execution_count": null,
      "outputs": [
        {
          "output_type": "stream",
          "name": "stdout",
          "text": [
            "Enter a number:1\n",
            "33.8\n"
          ]
        }
      ]
    },
    {
      "cell_type": "markdown",
      "source": [
        "3- Write a function to find the factorial of a number.\n",
        "\n",
        "Description: Implement a function that computes the factorial of a given number using recursion or iteration.\n"
      ],
      "metadata": {
        "id": "C6E3Oo7ffsCc"
      }
    },
    {
      "cell_type": "code",
      "source": [
        "def fact(n):\n",
        "  if n == 1:\n",
        "    return 1\n",
        "  else:\n",
        "    return (n * fact(n-1))\n",
        "n = int(input(\"Enter a number:\"))\n",
        "if n <= 0:\n",
        "    print(\"factorial  doesnot exists\")\n",
        "else:\n",
        "    print(\"factorial is\",fact(n))"
      ],
      "metadata": {
        "colab": {
          "base_uri": "https://localhost:8080/"
        },
        "id": "ylYXNnS5fxIQ",
        "outputId": "2013711b-baac-421b-dd56-ab33a9c251e8"
      },
      "execution_count": null,
      "outputs": [
        {
          "output_type": "stream",
          "name": "stdout",
          "text": [
            "Enter a number:4\n",
            "factorial is 24\n"
          ]
        }
      ]
    },
    {
      "cell_type": "markdown",
      "source": [
        "4- Design a function to check if a given number is prime.\n",
        "\n",
        "Description: Develop a function that determines whether a given number is prime or not. A prime number is a natural number greater than 1 that has no positive divisors other than 1 and itself.\n"
      ],
      "metadata": {
        "id": "NYIFzZ97fxoR"
      }
    },
    {
      "cell_type": "code",
      "source": [
        "def prime(n):\n",
        "    if n < 2:\n",
        "        return False\n",
        "    for i in range(2, int(n**0.5) + 1):\n",
        "        if n % i == 0:\n",
        "            return False\n",
        "    return True\n",
        "num = int(input(\"Enter a number: \"))\n",
        "if prime(num):\n",
        "    print(\"it is a prime number.\")\n",
        "else:\n",
        "    print(\"it is not a prime number.\")"
      ],
      "metadata": {
        "colab": {
          "base_uri": "https://localhost:8080/"
        },
        "id": "LRLAqM_Bf3VI",
        "outputId": "cb5a2bd1-e98d-48de-95ff-62a736aceb6d"
      },
      "execution_count": null,
      "outputs": [
        {
          "output_type": "stream",
          "name": "stdout",
          "text": [
            "Enter a number: 23\n",
            "it is a prime number.\n"
          ]
        }
      ]
    },
    {
      "cell_type": "markdown",
      "source": [
        "5- Create a function that reverses a given string.\n",
        "\n",
        "Description: Define a function that takes a string as input and returns its reverse. For example, \"hello\" should be returned as \"olleh\".\n"
      ],
      "metadata": {
        "id": "ZoGMjf1Wf3vd"
      }
    },
    {
      "cell_type": "code",
      "source": [
        "def reverse_string(s):\n",
        "    return s[::-1]\n",
        "n= input(\"Enter a string:\")\n",
        "print(\"Reversed string:\",reverse_string(n))\n"
      ],
      "metadata": {
        "colab": {
          "base_uri": "https://localhost:8080/"
        },
        "id": "WfLqNwCGf_sV",
        "outputId": "3bdaa003-9fef-4778-bad2-8595122876fd"
      },
      "execution_count": null,
      "outputs": [
        {
          "output_type": "stream",
          "name": "stdout",
          "text": [
            "Enter a string:poonam\n",
            "Reversed string: manoop\n"
          ]
        }
      ]
    },
    {
      "cell_type": "markdown",
      "source": [
        "6- Write a function to compute the nth Fibonacci number.\n",
        "\n",
        "Description: Implement a function that returns the nth Fibonacci number, where Fibonacci sequence starts with 0 and 1, and each subsequent number is the sum of the previous two."
      ],
      "metadata": {
        "id": "Jnp-sIMtgAEB"
      }
    },
    {
      "cell_type": "code",
      "source": [
        "def fibonacci(n):\n",
        "    a, b = 0, 1\n",
        "    for _ in range(n):\n",
        "        a, b = b, a + b\n",
        "    return a\n",
        "n = int(input(\"Enter a number:\"))\n",
        "print(\"Fibonacci number:\",fibonacci(n))"
      ],
      "metadata": {
        "colab": {
          "base_uri": "https://localhost:8080/"
        },
        "id": "Nt0YO6cBgDcr",
        "outputId": "04df17ad-c2ae-461e-e30e-a1c47d421d4b"
      },
      "execution_count": null,
      "outputs": [
        {
          "output_type": "stream",
          "name": "stdout",
          "text": [
            "Enter a number:6\n",
            "Fibonacci number: 8\n"
          ]
        }
      ]
    },
    {
      "cell_type": "markdown",
      "source": [
        "7- Create a function to find the largest element in a list.\n",
        "\n",
        "Description: Develop a function that takes a list of numbers as input and returns the largest element present in the list.\n"
      ],
      "metadata": {
        "id": "XcTervSKgD06"
      }
    },
    {
      "cell_type": "code",
      "source": [
        "def largest(lst):\n",
        "    L = lst[0]\n",
        "    for num in lst:\n",
        "        if num > L:\n",
        "            L = num\n",
        "    return L\n",
        "n = input(\"Enter a list:\")\n",
        "print(\" largest element is:\", largest(n))\n"
      ],
      "metadata": {
        "colab": {
          "base_uri": "https://localhost:8080/"
        },
        "id": "MIGzonAtgJKm",
        "outputId": "a96688e0-c4db-49cc-97d3-2f934c353e28"
      },
      "execution_count": null,
      "outputs": [
        {
          "output_type": "stream",
          "name": "stdout",
          "text": [
            "Enter a list:4,5,7,8,9\n",
            "The largest element is: 9\n"
          ]
        }
      ]
    },
    {
      "cell_type": "markdown",
      "source": [
        "8- Design a function to count the number of vowels in a string.\n",
        "\n",
        " Description: Define a function that counts and returns the number of vowels (a, e, i, o, u) present in a given string."
      ],
      "metadata": {
        "id": "Td0evuuKgJjU"
      }
    },
    {
      "cell_type": "code",
      "source": [
        "def vowel(s):\n",
        "    vowels = \"aeiouAEIOU\"\n",
        "    count = 0\n",
        "    for char in s:\n",
        "        if char in vowels:\n",
        "            count += 1\n",
        "    return count\n",
        "n = input(\"Enter a string: \")\n",
        "print(\"Number of vowels:\", vowel(n))\n"
      ],
      "metadata": {
        "colab": {
          "base_uri": "https://localhost:8080/"
        },
        "id": "X9osSkeUgayw",
        "outputId": "2b8c33ea-67a6-4da2-9167-7d9169f7dd30"
      },
      "execution_count": null,
      "outputs": [
        {
          "output_type": "stream",
          "name": "stdout",
          "text": [
            "Enter a string: My name is Poonam and I am data analyst.\n",
            "Number of vowels: 13\n"
          ]
        }
      ]
    },
    {
      "cell_type": "markdown",
      "source": [
        "9- Write a function to calculate the factorial of each number in a given list.\n",
        "\n",
        "Description: Create a function that accepts a list of numbers as input and returns a new list containing the factorial of each number in the original list.\n"
      ],
      "metadata": {
        "id": "bilxMHblgbNT"
      }
    },
    {
      "cell_type": "code",
      "source": [
        "def fact(n):\n",
        "    if n == 0 or n == 1:\n",
        "        return 1\n",
        "    return n * fact(n - 1)\n",
        "def fact_list(nums):\n",
        "    return [fact(num) for num in nums]\n",
        "n = input(\"Enter number by space: \")\n",
        "numbers = [int(num) for num in n.split()]\n",
        "print(\"Factorials of the numbers:\", fact_list(numbers))\n"
      ],
      "metadata": {
        "colab": {
          "base_uri": "https://localhost:8080/"
        },
        "id": "fYpOjM5rgfU3",
        "outputId": "734d053b-240e-4002-fe3a-ce563b8db145"
      },
      "execution_count": null,
      "outputs": [
        {
          "output_type": "stream",
          "name": "stdout",
          "text": [
            "Enter numbers separated by spaces: 7 8 9 4 9 6\n",
            "Factorials of the numbers: [5040, 40320, 362880, 24, 362880, 720]\n"
          ]
        }
      ]
    },
    {
      "cell_type": "markdown",
      "source": [
        "10- Create a function to check if a string is a palindrome.\n",
        "\n",
        "Description: Implement a function that checks whether a given string is a palindrome or not. A palindrome is a string that reads the same forwards and backwards."
      ],
      "metadata": {
        "id": "LwzkZuIAgfqe"
      }
    },
    {
      "cell_type": "code",
      "source": [
        "def palindrome(s):\n",
        "    return s == s[::-1]\n",
        "n = input(\"Enter a string: \")\n",
        "if palindrome(n):\n",
        "    print(\" string is a palindrome.\")\n",
        "else:\n",
        "    print(\"string is not a palindrome.\")\n"
      ],
      "metadata": {
        "colab": {
          "base_uri": "https://localhost:8080/"
        },
        "id": "xVu_r4F82zKK",
        "outputId": "f4706211-828a-42c1-b261-2aec9b7c05c8"
      },
      "execution_count": null,
      "outputs": [
        {
          "output_type": "stream",
          "name": "stdout",
          "text": [
            "Enter a string: poonam \n",
            "string is not a palindrome.\n"
          ]
        }
      ]
    }
  ]
}